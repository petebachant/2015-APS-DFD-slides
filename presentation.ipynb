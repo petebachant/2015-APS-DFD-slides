{
 "cells": [
  {
   "cell_type": "markdown",
   "metadata": {
    "slideshow": {
     "slide_type": "slide"
    }
   },
   "source": [
    "# Simulating wind and marine hydrokinetic turbines with actuator lines in RANS and LES\n",
    "\n",
    "<p class=\"gap3\"<p>\n",
    "\n",
    "<center>\n",
    "<img width=200px src=\"figures/unh.png\">\n",
    "</center>\n",
    "\n",
    "<p class=\"gap3\"<p>\n",
    "\n",
    "<center>\n",
    "Pete Bachant (<a href=\"mailto:petebachant@gmail.com\">petebachant@gmail.com</a>)\n",
    "<p>\n",
    "</center>\n",
    "\n",
    "<center>\n",
    "Martin Wosnik (<a href=\"martin.wosnik@unh.edu\">martin.wosnik@unh.edu</a>)\n",
    "<p>\n",
    "</center>"
   ]
  },
  {
   "cell_type": "code",
   "execution_count": null,
   "metadata": {
    "collapsed": false,
    "slideshow": {
     "slide_type": "skip"
    }
   },
   "outputs": [],
   "source": [
    "# Setup stuff\n",
    "%load_ext autoreload\n",
    "%autoreload 2\n",
    "import io\n",
    "import base64\n",
    "from IPython.display import HTML\n",
    "from importlib.machinery import SourceFileLoader\n",
    "%matplotlib inline\n",
    "import os\n",
    "talk_dir = os.getcwd()\n",
    "import matplotlib.pyplot as plt\n",
    "import seaborn as sns\n",
    "from pxl.styleplot import set_sns\n",
    "\n",
    "# Set plot styling\n",
    "set_sns(context=\"talk\", rc={\"lines.markersize\": 14, \"lines.markeredgewidth\": 2, \"axes.grid\": True, \n",
    "                            \"font.size\": 1.5*14.3})\n",
    "\n",
    "# Define some directories\n",
    "exp_dir = \"C:/Users/Pete/Research/Experiments\"\n",
    "rvat_baseline_dir = \"C:/Users/Pete/Research/Experiments/RVAT baseline\"\n",
    "rvat_re_dep_dir = os.path.join(exp_dir, \"RVAT Re dep\")\n",
    "\n",
    "def embed_video(fpath):\n",
    "    video = io.open(fpath, 'r+b').read()\n",
    "    encoded = base64.b64encode(video)\n",
    "    return HTML(data='''<center><video controls loop>\n",
    "                        <source src=\"data:video/mp4;base64,{0}\" type=\"video/mp4\" />\n",
    "                     </video></center>'''.format(encoded.decode('ascii')))\n"
   ]
  },
  {
   "cell_type": "markdown",
   "metadata": {
    "slideshow": {
     "slide_type": "slide"
    }
   },
   "source": [
    "## Motivation\n",
    "\n",
    "* Experimental results showing promise for CFTs in arrays ([Dabiri (2011)](http://dx.doi.org/10.1063/1.3608170), [Kinzel et al. (2012)](http://dx.doi.org/10.1080/14685248.2012.712698))\n",
    "* Vertical mean velocity field largest near-wake recovery mechanism for high-solidity CFTs ([Bachant and Wosnik (2015)](http://dx.doi.org/10.1080/14685248.2014.1001852))\n",
    "* 2-D blade-resolved RANS can't resolve vertical velocity\n",
    "* 3-D blade-resolved too expensive\n",
    "* ALM for CFT turbine and array analysis/design?"
   ]
  },
  {
   "cell_type": "markdown",
   "metadata": {
    "slideshow": {
     "slide_type": "slide"
    }
   },
   "source": [
    "## ALM survey\n",
    "\n",
    "| Author(s) | Code(s) | CFT? | Open? |\n",
    "|-----------|------|:------:|:-----------------:|\n",
    "| Sorensen and Shen (2002) | EllipSys3D | ![](figures/x.png) | ![](figures/x.png) |\n",
    "| Keck (2012) | ANSYS-CFX + ? | ![](figures/x.png) | ![](figures/x.png) |\n",
    "| Schluntz and Willden (2014) | FLUENT + ? | ![](figures/x.png) | ![](figures/x.png) |\n",
    "| Shamsoddin and Porté-Agel (2014) | In-house | ![](figures/check.png) | ![](figures/x.png) |\n",
    "| Zhong et al. (2015) | OpenFOAM + ? | ![](figures/x.png) | ![](figures/x.png) |\n",
    "| Schito and Zasso (2014) | OpenFOAM + ? | ![](figures/x.png) | ![](figures/x.png) |\n",
    "| Churchfield et al. (2012) | OpenFOAM + SOWFA | ![](figures/x.png) | ![](figures/check.png) |\n",
    "\n",
    "[Sorensen and Shen (2002)]: http://doi.org/10.1115/1.1471361"
   ]
  },
  {
   "cell_type": "markdown",
   "metadata": {
    "slideshow": {
     "slide_type": "notes"
    }
   },
   "source": [
    "Note how rare it is to share code. Papers show equations and results, but in order to build upon the work, researchers must re-implement, debug, etc. This is wasteful and inefficient. There are hardly any good reasons for this practice, but plenty of bad ones.\n",
    "\n",
    "I would have much rather contributed to someone else's code than start my own from scratch. While keeping your work secret (\"hoarding\" knowledge) may prevent people from using it first, it also prevents people from helping and collaborating with you. \n"
   ]
  },
  {
   "cell_type": "markdown",
   "metadata": {
    "slideshow": {
     "slide_type": "slide"
    }
   },
   "source": [
    "## NREL's [SOWFA](https://nwtc.nrel.gov/SOWFA)\n",
    "\n",
    "* Built on top of OpenFOAM\n",
    "* Atmospheric BL modeling tools\n",
    "* Additional LES models\n",
    "* Generator torque control\n",
    "* Blade pitch control\n",
    "* Coupling with NREL's FAST\n",
    "* HAWT farm only (no cross-flow turbines)\n",
    "* ALM requires custom solvers\n",
    "\n",
    "Adapt for CFTs?\n"
   ]
  },
  {
   "cell_type": "markdown",
   "metadata": {
    "slideshow": {
     "slide_type": "slide"
    }
   },
   "source": [
    "## [turbinesFoam](https://github.com/turbinesFoam/turbinesFoam)\n",
    "\n",
    "* New actuator line modeling library for OpenFOAM\n",
    "* Subclasses OpenFOAM's `fvOptions`\n",
    "  * Works with standard solvers\n",
    "* Written in object-oriented style\n",
    "  * Turbine, actuator line, and actuator line element are all software objects\n",
    "* Model both cross- and axial-flow turbines, standalone actuator lines\n"
   ]
  },
  {
   "cell_type": "markdown",
   "metadata": {
    "slideshow": {
     "slide_type": "slide"
    }
   },
   "source": [
    "## Distinctive features\n",
    "\n",
    "* Inflow sampled away from element using cell-point interpolation\n",
    "* Smearing parameter $\\epsilon$ either $c/2$ or $2 \\sqrt[3]{V_\\mathrm{cell}}$ (whichever larger)\n",
    "* Three variants of the Leishman–Beddoes dynamic stall model\n",
    "* Flow curvature corrections for CFTs\n",
    "* Added mass model from Strickland (1981)\n",
    "* Lifting-line based end effects model (no rotor parameters needed)—see Anderson (2001):\n",
    "\n",
    "$$\n",
    "\\alpha(\\theta) = \\frac{2b}{\\pi c(\\theta)} \\sum_1^N A_n \\sin n \\theta + \\sum_1^N n A_n \\frac{\\sin n \\theta}{\\sin \\theta}\n",
    "+ \\alpha_{L=0}(\\theta)\n",
    "$$\n",
    "\n",
    "$$\n",
    "\\Gamma(\\theta) = 2b U_\\infty \\sum_1^N A_n \\sin n \\theta \\hspace{1in} F = \\Gamma(\\theta)/\\Gamma_\\max\n",
    "$$"
   ]
  },
  {
   "cell_type": "markdown",
   "metadata": {
    "slideshow": {
     "slide_type": "skip"
    }
   },
   "source": [
    "## OpenFOAM's `fvOptions` framework\n",
    "\n",
    "Generic mechanism for adding sources at run time:\n",
    "\n",
    "```c++\n",
    "// Solve the Momentum equation\n",
    "\n",
    "tmp<fvVectorMatrix> UEqn\n",
    "(\n",
    "    fvm::ddt(U)\n",
    "  + fvm::div(phi, U)\n",
    "  + turbulence->divDevReff(U)\n",
    " ==\n",
    "    fvOptions(U)\n",
    ");\n",
    "```\n",
    "\n",
    "Leverage existing solvers---compressible, incompressible, VOF.\n",
    "\n",
    "Generic turbulence modeling--RANS, LES, DES, etc."
   ]
  },
  {
   "cell_type": "markdown",
   "metadata": {
    "slideshow": {
     "slide_type": "slide"
    }
   },
   "source": [
    "## UNH-RVAT cross-flow turbine validation case\n",
    "\n",
    "<img width=44% class=\"float-right\" src=\"figures/rvat-cad-no-hubs.PNG\">\n",
    "\n",
    "Open datasets from tow tank measurements:<br>\n",
    "[github.com/UNH-CORE/RVAT-baseline](https://github.com/UNH-CORE/RVAT-baseline) <br>\n",
    "[github.com/UNH-CORE/RVAT-Re-dep](https://github.com/UNH-CORE/RVAT-Re-dep)\n",
    "\n",
    "3-D standard $k$–$\\epsilon$ RANS model\n",
    "\n",
    "Leishman–Beddoes dynamic stall model modified by Sheng et al. (2008)\n",
    "\n",
    "Flow curvature correction from Goude (2012)\n",
    "\n",
    "Added mass model from Strickland (1981)"
   ]
  },
  {
   "cell_type": "markdown",
   "metadata": {
    "slideshow": {
     "slide_type": "skip"
    }
   },
   "source": [
    "## UNH-RVAT actuator line simulation\n",
    "\n",
    "<img width=44% class=\"float-right\" src=\"figures/rvat-cad-no-hubs.PNG\">\n",
    "\n",
    "3-D standard $k$–$\\epsilon$ RANS model\n",
    "\n",
    "Leishman–Beddoes dynamic stall model modified by Sheng et al. (2008)\n",
    "\n",
    "Flow curvature correction from Goude (2012)\n",
    "\n",
    "Added mass model from Strickland (1981)"
   ]
  },
  {
   "cell_type": "markdown",
   "metadata": {
    "slideshow": {
     "slide_type": "slide"
    }
   },
   "source": [
    "## Preliminary results: UNH-RVAT performance\n",
    "\n",
    "<center>\n",
    "<img width=80% src=figures/UNH-RVAT-turbinesFoam_perf-curves.png>\n",
    "</center>"
   ]
  },
  {
   "cell_type": "markdown",
   "metadata": {
    "slideshow": {
     "slide_type": "slide"
    }
   },
   "source": [
    "## Wake profiles at $x/D = 1$\n",
    "\n",
    "<center>\n",
    "<img width=80% src=figures/UNH-RVAT-turbinesFoam_wake-profiles.png>\n",
    "</center>"
   ]
  },
  {
   "cell_type": "markdown",
   "metadata": {
    "slideshow": {
     "slide_type": "skip"
    }
   },
   "source": [
    "## Mean momentum transport\n",
    "\n",
    "$$\n",
    "\\begin{split}\n",
    "\\frac{\\partial U}{\\partial x}  =  \n",
    "\\frac{1}{U} \\bigg{[}\n",
    "& - V\\frac{\\partial U}{\\partial y}\n",
    "- W\\frac{\\partial U}{\\partial z} \\\\\n",
    "& -\\frac{1}{\\rho}\\frac{\\partial P}{\\partial x} \\\\\n",
    "& - \\frac{\\partial}{\\partial x} \\overline{u'u'}\n",
    "- \\frac{\\partial}{\\partial y} \\overline{u'v'}\n",
    "- \\frac{\\partial}{\\partial z} \\overline{u'w'} \\\\\n",
    "& + \\nu\\left(\\frac{\\partial^2 U}{\\partial x^2}\n",
    "+ \\frac{\\partial^2 U}{\\partial y^2}\n",
    "+ \\frac{\\partial^2 U}{\\partial z^2} \\right)\n",
    "\\bigg{]}.\n",
    "\\end{split}\n",
    "$$"
   ]
  },
  {
   "cell_type": "markdown",
   "metadata": {
    "slideshow": {
     "slide_type": "slide"
    }
   },
   "source": [
    "## Mean velocity at $x/D=1$ (ALM vs. experiment)\n",
    "\n",
    "<center>\n",
    "<img width=65%, src=\"figures/UNH-RVAT-turbinesFoam_meancontquiv.png\">\n",
    "</center>\n",
    "\n",
    "<center>\n",
    "<img width=65%, style=\"padding-left: 45px\", src=\"figures/br-cfd-meancontquiv_exp.png\">\n",
    "</center>"
   ]
  },
  {
   "cell_type": "markdown",
   "metadata": {
    "slideshow": {
     "slide_type": "skip"
    }
   },
   "source": [
    "## UNH-RVAT TKE at $x/D=1$ (ALM vs. experiment)\n",
    "\n",
    "<center>\n",
    "<img width=80%, src=\"figures/UNH-RVAT-turbinesFoam_kcont.png\">\n",
    "</center>\n",
    "\n",
    "<center>\n",
    "<img width=80%, src=\"figures/br-cfd-kcont_exp.png\">\n",
    "</center>"
   ]
  },
  {
   "cell_type": "markdown",
   "metadata": {
    "slideshow": {
     "slide_type": "skip"
    }
   },
   "source": [
    "## Near-wake momentum transport\n",
    "\n",
    "<center>\n",
    "<img width=90%, src=\"figures/UNH-RVAT-turbinesFoam_recovery-bar-chart.png\">\n",
    "</center>"
   ]
  },
  {
   "cell_type": "markdown",
   "metadata": {
    "slideshow": {
     "slide_type": "slide"
    }
   },
   "source": [
    "## UNH-RVAT cross-flow turbine LES\n",
    "\n",
    "<center>\n",
    "<video width=100% controls loop>\n",
    "  <source src=\"videos/unh-rvat-alm-les.ogv\" type=\"video/ogg\">\n",
    "Your browser does not support the video tag.\n",
    "</video>\n",
    "</center>\n",
    "\n",
    "<!--\n",
    "<center>\n",
    "<iframe width=\"1000\" height=\"500\" src=\"https://www.youtube.com/embed/THZvV4R1vow?rel=0&autoplay=0\" frameborder=0 allowfullscreen></iframe>\n",
    "</center>\n",
    "-->"
   ]
  },
  {
   "cell_type": "markdown",
   "metadata": {
    "slideshow": {
     "slide_type": "slide"
    }
   },
   "source": [
    "## UNH-RVAT with free surface\n",
    "\n",
    "\n",
    "<center>\n",
    "<video width=90% controls loop>\n",
    "  <source src=\"videos/unh-rvat-alm-free-surface.ogv\" type=\"video/ogg\">\n",
    "Your browser does not support the video tag.\n",
    "</video>\n",
    "</center>"
   ]
  },
  {
   "cell_type": "markdown",
   "metadata": {
    "slideshow": {
     "slide_type": "slide"
    }
   },
   "source": [
    "## Sandia/DOE RM2 cross-flow turbine case\n",
    "\n",
    "<img width=45% class=\"float-right\" src=figures/RM2-rendering.PNG>\n",
    "\n",
    "Open dataset for low-solidity CFT acquired in UNH tow tank\n",
    "\n",
    "<img width=50% src=figures/rm2_video_snap.png>\n",
    "\n",
    "[github.com/UNH-CORE/RM2-tow-tank](https://github.com/UNH-CORE/RM2-tow-tank)\n"
   ]
  },
  {
   "cell_type": "markdown",
   "metadata": {
    "slideshow": {
     "slide_type": "slide"
    }
   },
   "source": [
    "## Preliminary results: RM2 performance\n",
    "\n",
    "<center>\n",
    "<img width=80% src=figures/RM2-turbinesFoam_perf-curves.png>\n",
    "</center>"
   ]
  },
  {
   "cell_type": "markdown",
   "metadata": {
    "slideshow": {
     "slide_type": "slide"
    }
   },
   "source": [
    "## NTNU dual in-line HAWTs\n",
    "\n",
    "Extensive axial-flow turbine validation case by Pierella et al. (2014)\n",
    "\n",
    "<center>\n",
    "<img width=70% src=figures/Pierella2014-exp-setup.PNG>\n",
    "</center>"
   ]
  },
  {
   "cell_type": "markdown",
   "metadata": {
    "slideshow": {
     "slide_type": "slide"
    }
   },
   "source": [
    "## NTNU HAWTs performance\n",
    "\n",
    "Preliminary results with standard $k$–$\\epsilon$ RANS model\n",
    "\n",
    "<center>\n",
    "<img width=90% src=figures/NTNU-HAWT-turbinesFoam_perf-curves.png>\n",
    "</center>"
   ]
  },
  {
   "cell_type": "markdown",
   "metadata": {
    "slideshow": {
     "slide_type": "slide"
    }
   },
   "source": [
    "## NTNU HAWTs wake profiles\n",
    "\n",
    "$1D$ behind downstream turbine\n",
    "\n",
    "<center>\n",
    "<img width=90% src=figures/NTNU-HAWT-turbinesFoam_wake-profiles.png>\n",
    "</center>"
   ]
  },
  {
   "cell_type": "markdown",
   "metadata": {
    "slideshow": {
     "slide_type": "slide"
    }
   },
   "source": [
    "## NTNU HAWT large eddy simulation\n",
    "\n",
    "Preliminary results with one equation eddy viscosity model\n",
    "\n",
    "<center>\n",
    "<video width=80% controls loop>\n",
    "  <source src=\"videos/ntnu-hawt-alm-les.ogv\" type=\"video/ogg\">\n",
    "Your browser does not support the video tag.\n",
    "</video>\n",
    "</center>"
   ]
  },
  {
   "cell_type": "markdown",
   "metadata": {
    "slideshow": {
     "slide_type": "slide"
    }
   },
   "source": [
    "## Conclusions\n",
    "\n",
    "* New open-source ALM developed for both AFTs and CFTs in OpenFOAM\n",
    "  * Compatible with RANS, LES turbulence models and VOF solvers\n",
    "* Predicts performance reasonably well\n",
    "* CFT near-wake predictions need work\n",
    "  * Turbulence generated by dynamic stall\n",
    "  * Three-dimensionality from vortex shedding"
   ]
  },
  {
   "cell_type": "markdown",
   "metadata": {
    "slideshow": {
     "slide_type": "skip"
    }
   },
   "source": [
    "## To-do\n",
    "\n",
    "Blade BL turbulence \"injection\" ([calibration via 2-D RANS](https://github.com/petebachant/NACAFoil-OpenFOAM))\n",
    "\n",
    "<center>\n",
    "<img width=80% src=figures/turbulence-injection.PNG>\n",
    "</center>"
   ]
  },
  {
   "cell_type": "markdown",
   "metadata": {
    "slideshow": {
     "slide_type": "skip"
    }
   },
   "source": [
    "## To-do\n",
    "\n",
    "* CFT vorticity generation\n",
    "  * Blade-vortex interaction?\n",
    "  * Stall vortex shedding (large negative $C_m$)?\n",
    "\n",
    "<center>\n",
    "<img width=80% src=figures/3D_vorticity_SA_964_10-threshold.png>\n",
    "</center>\n",
    "\n"
   ]
  },
  {
   "cell_type": "markdown",
   "metadata": {
    "slideshow": {
     "slide_type": "slide"
    }
   },
   "source": [
    "## Acknowledgements\n",
    "\n",
    "\n",
    "<img width=150px src=figures/nsf.png><img width=150px src=figures/us-doe.png><img width=150px src=figures/snl_logo.png>\n",
    "\n",
    "To obtain or contribute to the code, see https://github.com/turbinesFoam/turbinesFoam\n",
    "\n",
    "Test cases and more available at http://git.io/v4Bzp\n",
    "\n",
    "This presentation available at"
   ]
  }
 ],
 "metadata": {
  "celltoolbar": "Slideshow",
  "kernelspec": {
   "display_name": "Python 3",
   "language": "python",
   "name": "python3"
  },
  "language_info": {
   "codemirror_mode": {
    "name": "ipython",
    "version": 3
   },
   "file_extension": ".py",
   "mimetype": "text/x-python",
   "name": "python",
   "nbconvert_exporter": "python",
   "pygments_lexer": "ipython3",
   "version": "3.4.3"
  }
 },
 "nbformat": 4,
 "nbformat_minor": 0
}
